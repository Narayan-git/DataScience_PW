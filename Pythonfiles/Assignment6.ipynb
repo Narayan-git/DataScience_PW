{
 "cells": [
  {
   "cell_type": "code",
   "execution_count": 2,
   "metadata": {},
   "outputs": [
    {
     "name": "stdout",
     "output_type": "stream",
     "text": [
      "Q1. Answers: \n"
     ]
    }
   ],
   "source": [
    "print('Q1. Answers: ')\n",
    "class Vehicle:\n",
    "    def __init__(self, name_of_vehicle, max_speed, average_of_vehicle):\n",
    "        self.name_of_vehicle = name_of_vehicle\n",
    "        self.max_speed = max_speed\n",
    "        self.average_of_vehicle = average_of_vehicle\n",
    "\n",
    "vehicle1 = Vehicle(\"Car\", 200, 60)\n",
    "vehicle2 = Vehicle(\"Bike\", 100, 30)"
   ]
  },
  {
   "cell_type": "code",
   "execution_count": 3,
   "metadata": {},
   "outputs": [
    {
     "name": "stdout",
     "output_type": "stream",
     "text": [
      "Q2. Answers: \n",
      "The Honda Accord has a seating capacity of 5.\n"
     ]
    }
   ],
   "source": [
    "print('Q2. Answers: ')\n",
    "class Car(Vehicle):  # Inherit from the Vehicle class\n",
    "    def seating_capacity(self, capacity):\n",
    "        return f\"The {self.name_of_vehicle} has a seating capacity of {capacity}.\"\n",
    "car1 = Car(\"Honda Accord\", 220, 70)  # Create a Car object\n",
    "capacity = 5\n",
    "message = car1.seating_capacity(capacity)\n",
    "print(message)  # Output: The Honda Accord has a seating capacity of 5.\n"
   ]
  },
  {
   "cell_type": "code",
   "execution_count": 4,
   "metadata": {},
   "outputs": [
    {
     "name": "stdout",
     "output_type": "stream",
     "text": [
      "Q3. Answers: \n",
      "\n",
      "Defination: \n",
      "      Multiple inheritance is a feature in object-oriented programming,\n",
      "      that allows a class to inherit attributes and methods from multiple parent classes.\n",
      "      It enables the creation of more complex and specialized classes by combining features from different sources.\n",
      "Example: \n",
      "\n",
      "This is a method from Parent1\n",
      "This is a method from Parent2\n",
      "This is a method from Child\n"
     ]
    }
   ],
   "source": [
    "print('Q3. Answers: ')\n",
    "print('''\n",
    "Defination: \n",
    "      Multiple inheritance is a feature in object-oriented programming,\n",
    "      that allows a class to inherit attributes and methods from multiple parent classes.\n",
    "      It enables the creation of more complex and specialized classes by combining features from different sources.\n",
    "Example: \n",
    "''')\n",
    "class Parent1:\n",
    "    def parent1_method(self):\n",
    "        print(\"This is a method from Parent1\")\n",
    "\n",
    "class Parent2:\n",
    "    def parent2_method(self):\n",
    "        print(\"This is a method from Parent2\")\n",
    "\n",
    "class Child(Parent1, Parent2):  # Child inherits from both Parent1 and Parent2\n",
    "    def child_method(self):\n",
    "        print(\"This is a method from Child\")\n",
    "\n",
    "# Create a Child object\n",
    "child = Child()\n",
    "\n",
    "# Access methods from both parent classes\n",
    "child.parent1_method()  # Output: This is a method from Parent1\n",
    "child.parent2_method()  # Output: This is a method from Parent2\n",
    "child.child_method()    # Output: This is a method from Child\n"
   ]
  },
  {
   "cell_type": "code",
   "execution_count": 5,
   "metadata": {},
   "outputs": [
    {
     "name": "stdout",
     "output_type": "stream",
     "text": [
      "Q4. Answers: \n",
      "\n",
      "Getters and setters are special methods in Python classes that provide controlled access to an object's attributes:\n",
      "Getters (also known as accessors):\n",
      "      -> Allow you to retrieve the value of an attribute.\n",
      "      -> Follow the naming convention get_attribute_name().\n",
      "\n",
      "Setters (also known as mutators):\n",
      "    -> Allow you to modify the value of an attribute.\n",
      "    -> Follow the naming convention set_attribute_name().\n",
      "\n",
      "\n"
     ]
    }
   ],
   "source": [
    "print('Q4. Answers: ')\n",
    "print('''\n",
    "Getters and setters are special methods in Python classes that provide controlled access to an object's attributes:\n",
    "Getters (also known as accessors):\n",
    "      -> Allow you to retrieve the value of an attribute.\n",
    "      -> Follow the naming convention get_attribute_name().\n",
    "\n",
    "Setters (also known as mutators):\n",
    "    -> Allow you to modify the value of an attribute.\n",
    "    -> Follow the naming convention set_attribute_name().\n",
    "\n",
    "''')\n",
    "class Person:\n",
    "    def __init__(self, name, age):\n",
    "        self._name = name  # Private attribute (starts with underscore)\n",
    "        self._age = age\n",
    "\n",
    "    def get_name(self):  # Getter method\n",
    "        return self._name\n",
    "\n",
    "    def set_name(self, new_name):  # Setter method\n",
    "        if new_name.isalpha():  # Validation\n",
    "            self._name = new_name\n",
    "        else:\n",
    "            print(\"Invalid name. Please enter a valid name.\")\n",
    "\n",
    "    def get_age(self):  # Getter method\n",
    "        return self._age\n",
    "\n",
    "    def set_age(self, new_age):  # Setter method\n",
    "        if new_age > 0:  # Validation\n",
    "            self._age = new_age\n",
    "        else:\n",
    "            print(\"Invalid age. Please enter a positive age.\")\n"
   ]
  },
  {
   "cell_type": "code",
   "execution_count": 6,
   "metadata": {},
   "outputs": [
    {
     "name": "stdout",
     "output_type": "stream",
     "text": [
      "Q5. Answers: \n",
      "\n",
      "Method overriding in Python is a technique that allows a child class to provide a specific implementation of a method\n",
      "that is already defined in its parent class. This means the child class can redefine or \"override\" the inherited method's behavior,\n",
      "tailoring it to its own needs while still maintaining the overall structure and interface of the parent class.\n",
      "\n",
      "Woof!\n",
      "Meow!\n"
     ]
    }
   ],
   "source": [
    "print('Q5. Answers: ')\n",
    "print('''\n",
    "Method overriding in Python is a technique that allows a child class to provide a specific implementation of a method\n",
    "that is already defined in its parent class. This means the child class can redefine or \"override\" the inherited method's behavior,\n",
    "tailoring it to its own needs while still maintaining the overall structure and interface of the parent class.\n",
    "''')\n",
    "class Animal:\n",
    "    def make_sound(self):\n",
    "        print(\"Generic animal sound\")\n",
    "\n",
    "class Dog(Animal):  # Dog inherits from Animal\n",
    "    def make_sound(self):  # Overriding the make_sound method\n",
    "        print(\"Woof!\")\n",
    "\n",
    "class Cat(Animal):  # Cat inherits from Animal\n",
    "    def make_sound(self):  # Overriding the make_sound method\n",
    "        print(\"Meow!\")\n",
    "\n",
    "# Create objects of the child classes\n",
    "dog = Dog()\n",
    "cat = Cat()\n",
    "\n",
    "# Call the make_sound method on each object\n",
    "dog.make_sound()  # Output: Woof!\n",
    "cat.make_sound()  # Output: Meow!\n"
   ]
  },
  {
   "cell_type": "code",
   "execution_count": null,
   "metadata": {},
   "outputs": [],
   "source": []
  }
 ],
 "metadata": {
  "kernelspec": {
   "display_name": "Python 3",
   "language": "python",
   "name": "python3"
  },
  "language_info": {
   "codemirror_mode": {
    "name": "ipython",
    "version": 3
   },
   "file_extension": ".py",
   "mimetype": "text/x-python",
   "name": "python",
   "nbconvert_exporter": "python",
   "pygments_lexer": "ipython3",
   "version": "3.11.5"
  }
 },
 "nbformat": 4,
 "nbformat_minor": 2
}
