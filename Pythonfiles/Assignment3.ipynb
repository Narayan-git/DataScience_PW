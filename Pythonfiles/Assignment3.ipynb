{
 "cells": [
  {
   "cell_type": "code",
   "execution_count": 10,
   "metadata": {},
   "outputs": [
    {
     "name": "stdout",
     "output_type": "stream",
     "text": [
      "Q1 . ANSWERS: \n",
      "-> def key worrd is used to create a function\n"
     ]
    },
    {
     "data": {
      "text/plain": [
       "[1, 3, 5, 7, 9, 11, 13, 15, 17, 19, 21, 23, 25]"
      ]
     },
     "execution_count": 10,
     "metadata": {},
     "output_type": "execute_result"
    }
   ],
   "source": [
    "print('Q1 . ANSWERS: ')\n",
    "print('-> def key worrd is used to create a function')\n",
    "def OddNumber(Start, End):\n",
    "    List = []\n",
    "    for i in range(Start, End+1):\n",
    "        if(i%2 != 0):\n",
    "            List.append(i)\n",
    "    return List\n",
    "# Function call using two argument\n",
    "OddNumber(1, 25)"
   ]
  },
  {
   "cell_type": "code",
   "execution_count": 14,
   "metadata": {},
   "outputs": [
    {
     "name": "stdout",
     "output_type": "stream",
     "text": [
      "Q2 . ANSWERS: \n",
      "*args specifies the number of non-keyworded arguments that can be passed and the operations that can be performed on the function in Python.\n",
      "5\n",
      "10\n",
      "17\n",
      "**kwargs is a variable number of keyworded arguments that can be passed to a function that can perform dictionary operations.\n",
      "{'banana': 5, 'mango': 7, 'apple': 8} <class 'dict'>\n"
     ]
    }
   ],
   "source": [
    "print('Q2 . ANSWERS: ')\n",
    "print('*args specifies the number of non-keyworded arguments that can be passed and the operations that can be performed on the function in Python.')\n",
    "def add(*args):\n",
    "    total = 0\n",
    "    for a in args:\n",
    "        total += a\n",
    "    return total\n",
    "\n",
    "print(add(2, 3))\n",
    "print(add(2, 3, 5))\n",
    "print(add(2, 3, 5, 7))\n",
    "\n",
    "print('**kwargs is a variable number of keyworded arguments that can be passed to a function that can perform dictionary operations.')\n",
    "def total_fruits(**kwargs):\n",
    "    print(kwargs, type(kwargs))\n",
    "\n",
    "total_fruits(banana=5, mango=7, apple=8)\n"
   ]
  },
  {
   "cell_type": "code",
   "execution_count": 21,
   "metadata": {},
   "outputs": [
    {
     "name": "stdout",
     "output_type": "stream",
     "text": [
      "Q3 . ANSWERS: \n",
      "Iterator is an object that allows you to iterate over collections of data, such as lists, tuples, dictionaries, and sets.\n",
      "The iter() method is used to initialize the iterator object. Iteration is accomplished through the usage of the next() method.\n",
      "List for first 5 items: \n",
      "2\n",
      "4\n",
      "6\n",
      "8\n",
      "10\n"
     ]
    }
   ],
   "source": [
    "print('Q3 . ANSWERS: ')\n",
    "print('Iterator is an object that allows you to iterate over collections of data, such as lists, tuples, dictionaries, and sets.')\n",
    "print('The iter() method is used to initialize the iterator object. Iteration is accomplished through the usage of the next() method.')\n",
    "l = [2, 4, 6, 8, 10, 12, 14, 16, 18, 20]\n",
    "Iterator = iter(l)\n",
    "print('List for first 5 items: ')\n",
    "print(next(Iterator))\n",
    "print(next(Iterator))\n",
    "print(next(Iterator))\n",
    "print(next(Iterator))\n",
    "print(next(Iterator))"
   ]
  },
  {
   "cell_type": "code",
   "execution_count": 22,
   "metadata": {},
   "outputs": [
    {
     "name": "stdout",
     "output_type": "stream",
     "text": [
      "Q4 . ANSWERS: \n",
      "A Python generator function allows you to declare a function that behaves like an iterator, providing a faster and easier way to create iterators.\n",
      "yield keyword is used to create a generator function. A type of function that is memory efficient and can be used like an iterator object.\n",
      "Hello PW!!\n",
      "PhysicsWallah\n"
     ]
    }
   ],
   "source": [
    "print('Q4 . ANSWERS: ')\n",
    "print('A Python generator function allows you to declare a function that behaves like an iterator, providing a faster and easier way to create iterators.')\n",
    "print('yield keyword is used to create a generator function. A type of function that is memory efficient and can be used like an iterator object.')\n",
    "\n",
    "# Created one generator function\n",
    "def ExampleForGenerator():\n",
    "    yield \"Hello PW!!\"\n",
    "    yield \"PhysicsWallah\"\n",
    "\n",
    "obj = ExampleForGenerator()\n",
    "print(next(obj))\n",
    "print(next(obj))"
   ]
  },
  {
   "cell_type": "code",
   "execution_count": 23,
   "metadata": {},
   "outputs": [
    {
     "name": "stdout",
     "output_type": "stream",
     "text": [
      "Q5 . ANSWERS: \n",
      "2\n",
      "3\n",
      "5\n",
      "7\n",
      "11\n",
      "13\n",
      "17\n",
      "19\n",
      "23\n",
      "29\n",
      "31\n",
      "37\n",
      "41\n",
      "43\n",
      "47\n",
      "53\n",
      "59\n",
      "61\n",
      "67\n",
      "71\n"
     ]
    }
   ],
   "source": [
    "print('Q5 . ANSWERS: ')\n",
    "\n",
    "\n",
    "def is_prime(num):\n",
    "    # Check if a number is prime\n",
    "    if num < 2:\n",
    "        return False\n",
    "    for i in range(2, int(num**0.5) + 1):\n",
    "        if num % i == 0:\n",
    "            return False\n",
    "    return True\n",
    "\n",
    "def generate_primes(limit):\n",
    "    # Generate prime numbers less than the given limit\n",
    "    num = 2\n",
    "    while num < limit:\n",
    "        if is_prime(num):\n",
    "            yield num\n",
    "        num += 1\n",
    "\n",
    "# Use the generator to print the first 20 prime numbers\n",
    "prime_generator = generate_primes(1000)\n",
    "\n",
    "for _ in range(20):\n",
    "    print(next(prime_generator))"
   ]
  }
 ],
 "metadata": {
  "kernelspec": {
   "display_name": "Python 3",
   "language": "python",
   "name": "python3"
  },
  "language_info": {
   "codemirror_mode": {
    "name": "ipython",
    "version": 3
   },
   "file_extension": ".py",
   "mimetype": "text/x-python",
   "name": "python",
   "nbconvert_exporter": "python",
   "pygments_lexer": "ipython3",
   "version": "3.11.5"
  }
 },
 "nbformat": 4,
 "nbformat_minor": 2
}
