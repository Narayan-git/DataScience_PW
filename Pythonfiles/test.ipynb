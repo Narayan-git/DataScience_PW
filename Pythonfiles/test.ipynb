{
 "cells": [
  {
   "cell_type": "code",
   "execution_count": null,
   "metadata": {},
   "outputs": [],
   "source": [
    "def Welcome(abc):\n",
    "    def Body():\n",
    "        print(\"Welcome this is first decorator.\")\n",
    "        abc()\n",
    "        print('Thank you for using this Decorator :) .')\n",
    "\n",
    "@Welcome\n",
    "def test_Decorator():\n",
    "    print('This is curent function')\n",
    "\n"
   ]
  }
 ],
 "metadata": {
  "language_info": {
   "name": "python"
  }
 },
 "nbformat": 4,
 "nbformat_minor": 2
}
