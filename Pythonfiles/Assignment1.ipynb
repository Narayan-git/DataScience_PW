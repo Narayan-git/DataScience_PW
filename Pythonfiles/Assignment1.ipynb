{
 "cells": [
  {
   "cell_type": "code",
   "execution_count": 2,
   "metadata": {},
   "outputs": [
    {
     "name": "stdout",
     "output_type": "stream",
     "text": [
      "Q1\n",
      "<class 'str'>\n",
      "<class 'list'>\n",
      "<class 'float'>\n",
      "<class 'tuple'>\n"
     ]
    }
   ],
   "source": [
    "print('Q1 . ANSWERS: ')\n",
    "var1 = 'String'\n",
    "print(type(var1))\n",
    "var1 = ['1','2','3']\n",
    "print(type(var1))\n",
    "var1 = 2.0\n",
    "print(type(var1))\n",
    "var1 = ('1','2','3')\n",
    "print(type(var1))"
   ]
  },
  {
   "cell_type": "code",
   "execution_count": 3,
   "metadata": {},
   "outputs": [
    {
     "name": "stdout",
     "output_type": "stream",
     "text": [
      "Q2 . ANSWERS: \n",
      "<class 'str'>\n",
      "<class 'str'>\n",
      "<class 'list'>\n",
      "<class 'float'>\n"
     ]
    }
   ],
   "source": [
    "print('Q2 . ANSWERS: ')\n",
    "var1 = '' #data type str\n",
    "print(type(var1)) \n",
    "var2 = '[DS, ML, Python]' #data type str\n",
    "print(type(var2))\n",
    "var3 = ['DS','ML','Python'] #data type list\n",
    "print(type(var3))\n",
    "var4 = 1. #data type float\n",
    "print(type(var4))"
   ]
  },
  {
   "cell_type": "code",
   "execution_count": 8,
   "metadata": {},
   "outputs": [
    {
     "name": "stdout",
     "output_type": "stream",
     "text": [
      "Q3 . ANSWERS: \n",
      "Example for \"/\" 10/5 =  2.0\n",
      "Example for \"%\" 15%2 =  1\n",
      "Example for \"//\" 15//2 =  7\n",
      "Example for \"**\" 2**3 =  8\n"
     ]
    }
   ],
   "source": [
    "print('Q3 . ANSWERS: ')\n",
    "#i. / -> is using for got teh quotent example 10/5 = 2.0\n",
    "print('Example for \"/\" 10/5 = ', 10/5)\n",
    "\n",
    "#ii. % -> is using to get reminder, example 15%2 = 1\n",
    "print('Example for \"%\" 15%2 = ', 15%2)\n",
    "\n",
    "#iii. // -> is using to get floor division result , Example 15//2 = 7\n",
    "print('Example for \"//\" 15//2 = ', 15//2)\n",
    "\n",
    "#iv. ** -> is using for exponential, Example 2**3 = 8\n",
    "print('Example for \"**\" 2**3 = ', 2**3)\n"
   ]
  },
  {
   "cell_type": "code",
   "execution_count": 1,
   "metadata": {},
   "outputs": [
    {
     "name": "stdout",
     "output_type": "stream",
     "text": [
      "Q4. ANSWERS: \n",
      "Length of list :  10\n",
      "1 . <class 'int'>\n",
      "2 . <class 'float'>\n",
      "3 . <class 'complex'>\n",
      "4 . <class 'str'>\n",
      "5 . <class 'bool'>\n",
      "6 . <class 'bytes'>\n",
      "7 . <class 'NoneType'>\n",
      "8 . <class 'set'>\n",
      "9 . <class 'tuple'>\n",
      "10 . <class 'dict'>\n"
     ]
    }
   ],
   "source": [
    "print('Q4. ANSWERS: ')\n",
    "AllData = [1,1.8, 1j, 'string', True, b'byte', None, {1,2,3}, ('P', 'W', 'D', 'S'), {'P': 'Physics','W': 'Wallha'}]\n",
    "print('Length of list : ',len(AllData))\n",
    "i = 1\n",
    "for li in AllData:\n",
    "    print(i,'.',type(li))\n",
    "    i+=1"
   ]
  },
  {
   "cell_type": "code",
   "execution_count": 15,
   "metadata": {},
   "outputs": [
    {
     "name": "stdout",
     "output_type": "stream",
     "text": [
      "Q5. ANSWERS: \n",
      "128 purely divisible by 2 \n",
      "It can be divisible by 7 Times\n"
     ]
    }
   ],
   "source": [
    "print('Q5. ANSWERS: ')\n",
    "a = 128\n",
    "b= 2\n",
    "n= a\n",
    "i=0\n",
    "while(n>=b and n%b==0):\n",
    "    n = n/b\n",
    "    i+=1\n",
    "if(i>0):\n",
    "    print(a, 'purely divisible by', b, '\\nIt can be divisible by',i,'Times')\n",
    "else:\n",
    "    print(a, 'not purely divisible by ', b)"
   ]
  },
  {
   "cell_type": "code",
   "execution_count": 18,
   "metadata": {},
   "outputs": [
    {
     "name": "stdout",
     "output_type": "stream",
     "text": [
      "Q6. ANSWERS: \n",
      "6 is divisible by 3\n",
      "9 is divisible by 3\n",
      "3 is divisible by 3\n",
      "6 is divisible by 3\n",
      "12 is divisible by 3\n",
      "45 is divisible by 3\n",
      "87 is divisible by 3\n",
      "99 is divisible by 3\n",
      "42 is divisible by 3\n",
      "21 is divisible by 3\n",
      "69 is divisible by 3\n",
      "51 is divisible by 3\n"
     ]
    }
   ],
   "source": [
    "print('Q6. ANSWERS: ')\n",
    "intList = [6,8, 9, 3, 6 ,5, 12, 45, 67, 87, 98, 99, 23, 56, 67, 34, 23, 42, 32, 21, 71, 69, 49, 51, 95]\n",
    "for i in intList:\n",
    "    if(i%3 ==0):\n",
    "        print(i, 'is divisible by 3')"
   ]
  },
  {
   "cell_type": "code",
   "execution_count": 3,
   "metadata": {},
   "outputs": [
    {
     "name": "stdout",
     "output_type": "stream",
     "text": [
      "Q7. ANSWERS: \n",
      "[7, 9, 9, 7]\n",
      "(1, 9, 9, 7)\n"
     ]
    }
   ],
   "source": [
    "print('Q7. ANSWERS: ')\n",
    "'''\n",
    "mutable: those objects are allow to change their value that is known as mutable\n",
    "immutable: it's the reverse of mutable, those objects are not allow to chnage their value that is known as immutable\n",
    "'''\n",
    "\n",
    "# Example of Mutable this is a list data type its mutable\n",
    "VarList = [1, 9, 9, 7]\n",
    "VarList[0] = 7\n",
    "print(VarList)\n",
    "# Example of Immutable tupple is immutable we trying to modify the value but it's throwing error\n",
    "VarTupple = (1, 9, 9, 7)\n",
    "# VarTupple[0] = 7\n",
    "print(VarTupple)"
   ]
  }
 ],
 "metadata": {
  "kernelspec": {
   "display_name": "Python 3",
   "language": "python",
   "name": "python3"
  },
  "language_info": {
   "codemirror_mode": {
    "name": "ipython",
    "version": 3
   },
   "file_extension": ".py",
   "mimetype": "text/x-python",
   "name": "python",
   "nbconvert_exporter": "python",
   "pygments_lexer": "ipython3",
   "version": "3.11.5"
  },
  "orig_nbformat": 4
 },
 "nbformat": 4,
 "nbformat_minor": 2
}
