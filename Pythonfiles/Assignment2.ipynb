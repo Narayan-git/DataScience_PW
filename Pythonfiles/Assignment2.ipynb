{
 "cells": [
  {
   "cell_type": "code",
   "execution_count": 1,
   "metadata": {},
   "outputs": [
    {
     "name": "stdout",
     "output_type": "stream",
     "text": [
      "Q1 . ANSWERS: \n"
     ]
    },
    {
     "data": {
      "text/plain": [
       "'\\n    this is example of \\n    multiline line comment\\n'"
      ]
     },
     "execution_count": 1,
     "metadata": {},
     "output_type": "execute_result"
    }
   ],
   "source": [
    "print('Q1 . ANSWERS: ')\n",
    "'''in python we can write comments in two ways \n",
    "Single line comment , multiline comment'''\n",
    "\n",
    "#this is example of single line comment\n",
    "'''\n",
    "    this is example of \n",
    "    multiline line comment\n",
    "'''"
   ]
  },
  {
   "cell_type": "code",
   "execution_count": 2,
   "metadata": {},
   "outputs": [
    {
     "name": "stdout",
     "output_type": "stream",
     "text": [
      "Q2 . ANSWERS: \n",
      "<class 'int'>\n",
      "<class 'float'>\n"
     ]
    }
   ],
   "source": [
    "print('Q2 . ANSWERS: ')\n",
    "'''\n",
    "    A variable is a string of characters and numbers associated with a piece of information.\n",
    "    The assignment operator, denoted by the “=” symbol,\n",
    "    is the operator that is used to assign values to variables in Python\n",
    "'''\n",
    "'''\n",
    "1. In Python we need not declare a variable with some specific data type.\n",
    "2. Python has no command for declaring a variable.\n",
    "3. A variable is created when some value is assigned to it.\n",
    "4. The value assigned to a variable determines the data type of that variable.\n",
    "\n",
    "Thus, declaring a variable in Python is very simple.\n",
    "-> Just name the variable\n",
    "-> Assign the required value to it\n",
    "-> we need not define it explicitly\n",
    "\n",
    "given some example below\n",
    "'''\n",
    "#For int\n",
    "A = 100\n",
    "print(type(A))\n",
    "\n",
    "#For Float\n",
    "A = 100.99\n",
    "print(type(A))\n",
    "\n",
    "#Like this we can declare and asign the value to a variable"
   ]
  },
  {
   "cell_type": "code",
   "execution_count": 3,
   "metadata": {},
   "outputs": [
    {
     "name": "stdout",
     "output_type": "stream",
     "text": [
      "Q3 . ANSWERS: \n",
      "Implicit convertion\n",
      "type of i -  <class 'int'>\n",
      "type of f -  <class 'float'>\n",
      "type of r -  <class 'float'>\n",
      "\n",
      "Explicit convertion\n",
      "type of s -  <class 'str'>\n",
      "type of i -  <class 'int'>\n"
     ]
    }
   ],
   "source": [
    "print('Q3 . ANSWERS: ')\n",
    "'''\n",
    "    to conversion of data type we known as type casting \n",
    "    In python There are two types of type conversion.\n",
    "    -> Implicit Conversion - automatic type conversion\n",
    "    -> Explicit Conversion - manual type conversion\n",
    "'''\n",
    "#Example of Implicit convertion\n",
    "print('Implicit convertion')\n",
    "i = 786\n",
    "f = 345.23\n",
    "r = i+f\n",
    "print('type of i - ',type(i))\n",
    "print('type of f - ',type(f))\n",
    "print('type of r - ',type(r))\n",
    "\n",
    "#Example of Explicit Conversion\n",
    "print('\\nExplicit convertion')\n",
    "s= '786'\n",
    "i = int(s)\n",
    "print('type of s - ',type(s))\n",
    "print('type of i - ',type(i))"
   ]
  },
  {
   "cell_type": "code",
   "execution_count": 4,
   "metadata": {},
   "outputs": [
    {
     "name": "stdout",
     "output_type": "stream",
     "text": [
      "Q4 . ANSWERS: \n"
     ]
    },
    {
     "data": {
      "text/plain": [
       "'\\n    -> Verify your terminal or command prompt can run Python\\n    -> Create a Python script that is error-free\\n    -> Use python your/file/name.py to run your script from the terminal\\n'"
      ]
     },
     "execution_count": 4,
     "metadata": {},
     "output_type": "execute_result"
    }
   ],
   "source": [
    "print('Q4 . ANSWERS: ')\n",
    "'''\n",
    "    -> Verify your terminal or command prompt can run Python\n",
    "    -> Create a Python script that is error-free\n",
    "    -> Use python your/file/name.py to run your script from the terminal\n",
    "'''"
   ]
  },
  {
   "cell_type": "code",
   "execution_count": 5,
   "metadata": {},
   "outputs": [
    {
     "name": "stdout",
     "output_type": "stream",
     "text": [
      "Q5 . ANSWERS: \n",
      "[2, 3]\n"
     ]
    }
   ],
   "source": [
    "print('Q5 . ANSWERS: ')\n",
    "my_list = [1, 2, 3, 4, 5]\n",
    "print(my_list[1:3])\n"
   ]
  },
  {
   "cell_type": "code",
   "execution_count": 6,
   "metadata": {},
   "outputs": [
    {
     "name": "stdout",
     "output_type": "stream",
     "text": [
      "Q6 . ANSWERS: \n",
      "c =  (10+5j) \n",
      "Type of c -  <class 'complex'>\n",
      "c =  (10+5j) \n",
      "Type of cx -  <class 'complex'>\n"
     ]
    }
   ],
   "source": [
    "print('Q6 . ANSWERS: ')\n",
    "'''\n",
    "    Complex numbers are created from two real numbers\n",
    "    It is written in the form of (x + yj) \n",
    "    where x and y are real numbers and j is an imaginary number\n",
    "\n",
    "    In python we can define two ways\n",
    "     1. we can use complex function \n",
    "     2. we can directly asign value to a variable\n",
    "'''\n",
    "c = complex(10, 5)\n",
    "print('c = ', c, '\\nType of c - ', type(c))\n",
    "\n",
    "cx = 10+5j\n",
    "print('c = ', c, '\\nType of cx - ', type(cx))"
   ]
  },
  {
   "cell_type": "code",
   "execution_count": 7,
   "metadata": {},
   "outputs": [
    {
     "name": "stdout",
     "output_type": "stream",
     "text": [
      "Q7 . ANSWERS: \n"
     ]
    }
   ],
   "source": [
    "print('Q7 . ANSWERS: ')\n",
    "age = int(25)"
   ]
  },
  {
   "cell_type": "code",
   "execution_count": 8,
   "metadata": {},
   "outputs": [
    {
     "name": "stdout",
     "output_type": "stream",
     "text": [
      "Q8 . ANSWERS: \n",
      "<class 'float'>\n"
     ]
    }
   ],
   "source": [
    "print('Q8 . ANSWERS: ')\n",
    "price = 9.99\n",
    "#this is a float type variable\n",
    "print(type(price))"
   ]
  },
  {
   "cell_type": "code",
   "execution_count": 9,
   "metadata": {},
   "outputs": [
    {
     "name": "stdout",
     "output_type": "stream",
     "text": [
      "Q9 . ANSWERS: \n",
      "Narayan Sahu\n",
      "Narayan Sahu\n"
     ]
    }
   ],
   "source": [
    "print('Q9 . ANSWERS: ')\n",
    "name = 'Narayan Sahu'\n",
    "print(name)\n",
    "print(name[0::1])"
   ]
  },
  {
   "cell_type": "code",
   "execution_count": 10,
   "metadata": {},
   "outputs": [
    {
     "name": "stdout",
     "output_type": "stream",
     "text": [
      "Q10 . ANSWERS: \n",
      "World\n"
     ]
    }
   ],
   "source": [
    "print('Q10 . ANSWERS: ')\n",
    "s = 'Hello, World!'\n",
    "ss = s[7:12]\n",
    "print(ss)"
   ]
  },
  {
   "cell_type": "code",
   "execution_count": 11,
   "metadata": {},
   "outputs": [
    {
     "name": "stdout",
     "output_type": "stream",
     "text": [
      "Q11 . ANSWERS: \n",
      "<class 'bool'>\n"
     ]
    }
   ],
   "source": [
    "print('Q11 . ANSWERS: ')\n",
    "is_student = True\n",
    "print(type(is_student))"
   ]
  }
 ],
 "metadata": {
  "kernelspec": {
   "display_name": "Python 3",
   "language": "python",
   "name": "python3"
  },
  "language_info": {
   "codemirror_mode": {
    "name": "ipython",
    "version": 3
   },
   "file_extension": ".py",
   "mimetype": "text/x-python",
   "name": "python",
   "nbconvert_exporter": "python",
   "pygments_lexer": "ipython3",
   "version": "3.11.4"
  },
  "orig_nbformat": 4
 },
 "nbformat": 4,
 "nbformat_minor": 2
}
